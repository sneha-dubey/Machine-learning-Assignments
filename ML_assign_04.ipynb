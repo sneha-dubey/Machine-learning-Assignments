{
  "nbformat": 4,
  "nbformat_minor": 0,
  "metadata": {
    "colab": {
      "provenance": []
    },
    "kernelspec": {
      "name": "python3",
      "display_name": "Python 3"
    },
    "language_info": {
      "name": "python"
    }
  },
  "cells": [
    {
      "cell_type": "markdown",
      "source": [
        "1. What are the key tasks involved in getting ready to work with machine learning modeling?"
      ],
      "metadata": {
        "id": "cEkyVN2enDDX"
      }
    },
    {
      "cell_type": "markdown",
      "source": [
        "Answer: The key tasks involved in getting ready to work with machine learning modeling inlude:\n",
        "\n",
        "a.)Define the problem\n",
        "\n",
        "b.)Gather data\n",
        "\n",
        "c.)Preprocess data\n",
        "\n",
        "d.)Split data\n",
        "\n",
        "e.)choose a model\n",
        "\n",
        "f.)Train the model\n",
        "\n",
        "g.)Evaluate the model\n",
        "\n",
        "h.)Fine-tune the model\n",
        "\n",
        "i.)Deploy the model"
      ],
      "metadata": {
        "id": "hW_d-W6i0gq_"
      }
    },
    {
      "cell_type": "markdown",
      "source": [
        "2. What are the different forms of data used in machine learning? Give a specific example for each of\n",
        "them."
      ],
      "metadata": {
        "id": "oCEF3rNpnH0G"
      }
    },
    {
      "cell_type": "markdown",
      "source": [
        "Answer: There are several different forms of data used in machine learning, including:\n",
        "\n",
        "a.)Numerical data: Example - Temperature in degree celcius\n",
        "\n",
        "b.)Categorical data: Example - Person eye color (e.g. Blue, Black, Red)\n",
        "\n",
        "c.)Binary data: Example - Example - yes/No answer to question\n",
        "\n",
        "d.)Time series data: Example - Stock prices of a company\n",
        "\n",
        "e.) Image data: Example - Digital photograph of a person\n",
        "\n",
        "f.)Text data: Example - news articles"
      ],
      "metadata": {
        "id": "edQUyLDI2CB6"
      }
    },
    {
      "cell_type": "markdown",
      "source": [
        "3. Distinguish:\n",
        "\n",
        "1.)Numeric vs. categorical attributes\n",
        "\n",
        "2.)Feature selection vs. dimensionality reduction"
      ],
      "metadata": {
        "id": "DYZuDHGPnOjx"
      }
    },
    {
      "cell_type": "markdown",
      "source": [
        "Answer 3.1.) Numeric vs. Categorical attributes: Numeric attributes are continuous, real valued number. e.g. Height of a person, weight of an object\n",
        "\n",
        "Categorical attributes: Attributes that take on a limited number of values. Such as Eye color, Gender\n",
        "\n",
        "3.2.) Feature selection vs. dimensionality reduction: Feature selection is the process of selecting a subset of the original features to use in building a model. The goal of feature selection is to reduce the number of features while retaining the most important information in the data.\n",
        "\n",
        "Dimensionality reduction is the process of transforming the original features into a new, lower-dimensional feature space. The goal of dimensionality reduction is to remove the redundancy and noise in the data while retaining the most important information. Dimensionality reduction can help to improve the performance of the model, reduce overfitting, and make it easier to visualize high-dimensional data. There are several methods: PCA(Principal component analysis)"
      ],
      "metadata": {
        "id": "1n3yiKG535cJ"
      }
    },
    {
      "cell_type": "markdown",
      "source": [
        "4. Make quick notes on any two of the following:\n",
        "\n",
        "1.) The histogram\n",
        "\n",
        "2.) Use a scatter plot\n",
        "\n",
        "3.) PCA (Personal Computer Aid)"
      ],
      "metadata": {
        "id": "FTJG-VzRnUpw"
      }
    },
    {
      "cell_type": "markdown",
      "source": [
        "4. 1.) The Histogram: It is a graphical representation of the distribution of a set of numerical data. It is used to visualize the distribution of the data and identify any patterns or trends.The data is divided into a set of bins or intervals, and the number of data points that fall within each bin is counted and represented as a bar. The height of the bar represents the frequency of the data in that bin.\n",
        "\n",
        "2.)Use a scatter plot: A scatter plot is a graph that uses dots to represent values for two different variables. A scatter plot can be used to visualize the relationship between two variables, and can be used to identify trends and patterns in the data.\n",
        "\n",
        "3.)PCA(Personal Computer Aid): A personal computer aid is a software or hardware tool that helps a person to perform tasks more efficiently or effectively on a computer.Personal computer aids can take many different forms and serve a variety of purposes, including:\n",
        "\n",
        "a.)Productivity tools\n",
        "\n",
        "b.) Accessibility aids\n",
        "\n",
        "c.)Security aids\n",
        "\n",
        "d.)Performance optimization aids"
      ],
      "metadata": {
        "id": "A-0zhiUt6z0Z"
      }
    },
    {
      "cell_type": "markdown",
      "source": [
        "5. Why is it necessary to investigate data? Is there a discrepancy in how qualitative and quantitative\n",
        "data are explored?"
      ],
      "metadata": {
        "id": "8EEnDIBxni6K"
      }
    },
    {
      "cell_type": "markdown",
      "source": [
        "It helps us to understand the underlying structures and trends in the data, which can be used to make informed decisions, draw conclusions, and develop theories.\n",
        "\n",
        "The investigation of qualitative and quantitative data often differs in terms of the methods used, the types of questions asked, and the interpretations made.\n",
        "\n",
        "Quantitative data consists of numerical values and is often analyzed using statistical methods, such as mean, median, mode, standard deviation, and regression analysis. The goal of analyzing quantitative data is often to make generalizations about a larger population based on a sample of data.\n",
        "\n",
        "The goal of analyzing qualitative data is often to gain a deeper understanding of people's experiences, perspectives, and motivations."
      ],
      "metadata": {
        "id": "VwIZKNWb_xYA"
      }
    },
    {
      "cell_type": "markdown",
      "source": [
        "6. What are the various histogram shapes? What exactly are ‘bins&#39;?"
      ],
      "metadata": {
        "id": "U7DyDfhcnmhS"
      }
    },
    {
      "cell_type": "markdown",
      "source": [
        "The shape of a histogram can give us insights into the underlying distribution of the data. Some of the common shapes of histograms are:\n",
        "\n",
        "a.)Symmetrical:The data is evenly distributed around the central value, resulting in a histogram that is roughly bell-shaped.\n",
        "\n",
        "b.)Unimodal:The histogram has one peak or mode, which is the most frequent value in the data set.\n",
        "\n",
        "c.)Bimodal: The histogram has two peaks or modes, indicating that the data comes from two different populations.\n",
        "\n",
        "d.)Skewed left:The histogram is shifted to the left, with most of the data values concentrated on the right side of the histogram.\n",
        "\n",
        "e.)Skewed right:The histogram is shifted to the left, with most of the data values concentrated on the left side of the histogram.\n",
        "\n",
        "\n",
        "Bins are usually specified as a range of values, and each bin represents the count of the number of data points that fall within that range. "
      ],
      "metadata": {
        "id": "bZVIkbiGKH3A"
      }
    },
    {
      "cell_type": "markdown",
      "source": [
        "7. How do we deal with data outliers?"
      ],
      "metadata": {
        "id": "JRh8bDdqnpZb"
      }
    },
    {
      "cell_type": "markdown",
      "source": [
        "Outliers can have a significant impact on the results of statistical analyses, as they can skew the results and lead to incorrect conclusions.Therefore, it is important to identify to deal with outliers when analyzing data.\n",
        "\n",
        "There are several methods for dealing with outliers, including:\n",
        "1.)Visual inspection\n",
        "2.)z-score method\n",
        "3.)Interquartile range\n",
        "\n",
        "once outlier identified, they can be removed, replaced and retained."
      ],
      "metadata": {
        "id": "2m9x_LJnBSsi"
      }
    },
    {
      "cell_type": "markdown",
      "source": [
        "8. What are the various central inclination measures? Why does mean vary too much from median in\n",
        "certain data sets?"
      ],
      "metadata": {
        "id": "-RYHNzu9ntjz"
      }
    },
    {
      "cell_type": "markdown",
      "source": [
        "The various central incination measures are statistics that describe the 'centre' of a set of data.\n",
        "\n",
        "There are 3 main central tendencies are: Mean, Median , Mode\n",
        "\n",
        "Mean: The average of a set of numerical data.\n",
        "\n",
        "Median: The median is the middle value in a set of data, and is found by ordering the data set from smallest to largest .\n",
        "\n",
        "Mode: The value that occurs frequently in a dataset.\n",
        "\n",
        "The mean can vary widely from the median in certain data sets because the mean is sensitive to outliers or extreme values, while the median is not."
      ],
      "metadata": {
        "id": "FD-eu0YKPM0i"
      }
    },
    {
      "cell_type": "markdown",
      "source": [
        "9. Describe how a scatter plot can be used to investigate bivariate relationships. Is it possible to find\n",
        "outliers using a scatter plot?"
      ],
      "metadata": {
        "id": "TSE1__ItnwWA"
      }
    },
    {
      "cell_type": "markdown",
      "source": [
        "Scatter plot  plots each data point as a single point in two-dimensional space, with one variable on the x-axis and the other variable on the y-axis.\n",
        "\n",
        "Scatter plots can be used to investigate bivariate relationships by allowing us to visually inspect the pattern and strength of the relationship between two variables. The pattern of the scatter plot can indicate if there is a positive relationship, a negative relationship, or no relationship between the variables. The strength of the relationship can be determined by the degree of clustering or spread of the data points.\n",
        "\n",
        "Yes, Outliers can be identified using a scatter plot by looking for data points that fall outside of the general pattern of the data. \n",
        "\n"
      ],
      "metadata": {
        "id": "PmTngZoXQzii"
      }
    },
    {
      "cell_type": "markdown",
      "source": [
        "10. Describe how cross-tabs can be used to figure out how two variables are related."
      ],
      "metadata": {
        "id": "ux0JND2rnzYm"
      }
    },
    {
      "cell_type": "markdown",
      "source": [
        "Cross-tabs are used to determine how two variables are related by examining the association between the variables.\n",
        "\n",
        "A cross-tab presents the frequency or count of observations for each combination of categories in the two variables. The categories are organized into rows and columns, and the intersection of each row and column displays the count of observations that fall into that category combination. \n",
        "\n",
        "Cross-tabs can also be used to determine the strength of the relationship between two variables by calculating measures such as chi-square, Cramer's V, or Phi. These measures provide a numerical summary of the relationship between the two variables, allowing us to quantify the association between them."
      ],
      "metadata": {
        "id": "FIogC4rORD3q"
      }
    },
    {
      "cell_type": "code",
      "source": [],
      "metadata": {
        "id": "0MF4NC6PZFU9"
      },
      "execution_count": null,
      "outputs": []
    }
  ]
}