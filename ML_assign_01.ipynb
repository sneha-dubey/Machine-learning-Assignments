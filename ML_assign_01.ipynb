{
  "nbformat": 4,
  "nbformat_minor": 0,
  "metadata": {
    "colab": {
      "provenance": []
    },
    "kernelspec": {
      "name": "python3",
      "display_name": "Python 3"
    },
    "language_info": {
      "name": "python"
    }
  },
  "cells": [
    {
      "cell_type": "markdown",
      "source": [
        "1. What does one mean by the term &quot;machine learning&quot;?"
      ],
      "metadata": {
        "id": "SHFrnNgS4hRh"
      }
    },
    {
      "cell_type": "markdown",
      "source": [
        "Machine learning is subset of AI and it provides stats tools to analyze, visualize, forecasting, prediction of the new data. Classified into:\n",
        "\n",
        "1.   Supervised ML\n",
        "2.   Unsupervised ML\n",
        "3.   Reinforcement Learning"
      ],
      "metadata": {
        "id": "WYjeHx5TJMJB"
      }
    },
    {
      "cell_type": "markdown",
      "source": [
        "2.Can you think of 4 distinct types of issues where it shines?"
      ],
      "metadata": {
        "id": "eAekrBOA4jDU"
      }
    },
    {
      "cell_type": "markdown",
      "source": [
        "Machine learning is great for problems whose solution requires a great deal of work or a long list of rules, complex problems that are hard to get a solution of using a traditional method, fluctuating environments and getting insights about complex problems and large data.\n",
        "\n"
      ],
      "metadata": {
        "id": "EfG7WQfPV06v"
      }
    },
    {
      "cell_type": "markdown",
      "source": [
        "3.What is a labeled training set, and how does it work?"
      ],
      "metadata": {
        "id": "pXWqgCir4l69"
      }
    },
    {
      "cell_type": "markdown",
      "source": [
        "Labeled training set is a set of training data which has a solution/output to the problem or task (label)."
      ],
      "metadata": {
        "id": "v4GzWRaNWJDx"
      }
    },
    {
      "cell_type": "markdown",
      "source": [
        "4.What are the two most important tasks that are supervised?"
      ],
      "metadata": {
        "id": "_auP9iv-4rrR"
      }
    },
    {
      "cell_type": "markdown",
      "source": [
        "Classification and regression problems are two most important tasks that are supervised."
      ],
      "metadata": {
        "id": "0k1-BnrBWYSP"
      }
    },
    {
      "cell_type": "markdown",
      "source": [
        "5.Can you think of four examples of unsupervised tasks?"
      ],
      "metadata": {
        "id": "eEjzaXEG4vd7"
      }
    },
    {
      "cell_type": "markdown",
      "source": [
        " Clustering, visualization, dimensionality reduction and association rule are four common unsupervised tasks.\n",
        "\n"
      ],
      "metadata": {
        "id": "n6n5xaH5WrRD"
      }
    },
    {
      "cell_type": "markdown",
      "source": [
        "6.State the machine learning model that would be best to make a robot walk through various\n",
        "unfamiliar terrains?"
      ],
      "metadata": {
        "id": "R80EocGC41X8"
      }
    },
    {
      "cell_type": "markdown",
      "source": [
        "The best Machine Learning algorithm to make a robot to walk through various unfamiliar terrains is Reinforcement Learning, where the robot can learn from response of the terrain and optimize itself."
      ],
      "metadata": {
        "id": "RF7pzmYHYVAu"
      }
    },
    {
      "cell_type": "markdown",
      "source": [
        "7.Which algorithm will you use to divide your customers into different groups?"
      ],
      "metadata": {
        "id": "D-qkcRq7450x"
      }
    },
    {
      "cell_type": "markdown",
      "source": [
        "The best algorithm to segment customers into multiple groups is either supervised learning or unsupervised learning.\n",
        "Example: Clustering, KNN, Customer segmentation\n"
      ],
      "metadata": {
        "id": "vYXnUxuRYu0V"
      }
    },
    {
      "cell_type": "markdown",
      "source": [
        "8.Will you consider the problem of spam detection to be a supervised or unsupervised learning\n",
        "problem?"
      ],
      "metadata": {
        "id": "P8VsByqN48_X"
      }
    },
    {
      "cell_type": "markdown",
      "source": [
        "Spam detection is a supervised learning problem."
      ],
      "metadata": {
        "id": "4EN6pfyhZYHI"
      }
    },
    {
      "cell_type": "markdown",
      "source": [
        "9.What is the concept of an online learning system?"
      ],
      "metadata": {
        "id": "f3-fnuHx4_3p"
      }
    },
    {
      "cell_type": "markdown",
      "source": [
        "Online learning system is a learning system in which the machine learns as data is given in small streams continuously.\n",
        "online machine learning is a method of machine learning in which data becomes available in a sequential order and is used to update the best predictor for future data at each step."
      ],
      "metadata": {
        "id": "XfV4f9JsZfJ-"
      }
    },
    {
      "cell_type": "markdown",
      "source": [
        "10.What is out-of-core learning, and how does it differ from core learning?"
      ],
      "metadata": {
        "id": "oTCu9iV_5D6s"
      }
    },
    {
      "cell_type": "markdown",
      "source": [
        "Out-of-core learning system is a system that can handle data that cannot fit your computer core memory.It uses online learning system to feed data in small bits."
      ],
      "metadata": {
        "id": "AYNB6QYVaWmC"
      }
    },
    {
      "cell_type": "markdown",
      "source": [
        "11.What kind of learning algorithm makes predictions using a similarity measure?"
      ],
      "metadata": {
        "id": "fxRAL3Sk5HKe"
      }
    },
    {
      "cell_type": "markdown",
      "source": [
        "Learning algorithm that relies on a similarity measure to make predictions is instance-based algorithm."
      ],
      "metadata": {
        "id": "KAODe0X4c4Ko"
      }
    },
    {
      "cell_type": "markdown",
      "source": [
        "12.What&#39;s the difference between a model parameter and a hyperparameter in a learning\n",
        "algorithm?"
      ],
      "metadata": {
        "id": "MbIvXViU5KYt"
      }
    },
    {
      "cell_type": "markdown",
      "source": [
        "Model parameter determines how a model will predict given a new instance; model usually has more than one parameter (i.e. slope of a linear model). Hyperparameter is a parameter for the learning algorithm, not for a model."
      ],
      "metadata": {
        "id": "Sv6haBTKdT-8"
      }
    },
    {
      "cell_type": "markdown",
      "source": [
        "13.What are the criteria that model-based learning algorithms look for? What is the most popular\n",
        "method they use to achieve success? What method do they use to make predictions?"
      ],
      "metadata": {
        "id": "_dkKfU196AiP"
      }
    },
    {
      "cell_type": "markdown",
      "source": [
        "Model based learning algorithm search for the optimal value of parameters in a model that will give the best results for the new instances. We often use a cost function or similar to determine what the parameter value has to be in order to minimize the function. The model makes prediction by using the value of the new instance and the parameters in its function."
      ],
      "metadata": {
        "id": "wRQAdhO_dmu5"
      }
    },
    {
      "cell_type": "markdown",
      "source": [
        "14.Can you name four of the most important Machine Learning challenges?"
      ],
      "metadata": {
        "id": "izITOtlJ6HzF"
      }
    },
    {
      "cell_type": "markdown",
      "source": [
        "Four main challenges in Machine Learning include overfitting the data, underfitting the data, lacking in data,gathering the data and nonrepresentative data.\n",
        "\n"
      ],
      "metadata": {
        "id": "79TTQT4WeiOy"
      }
    },
    {
      "cell_type": "markdown",
      "source": [
        "15.What happens if the model performs well on the training data but fails to generalize the results\n",
        "to new situations? Can you think of three different options?"
      ],
      "metadata": {
        "id": "f9FFhelt6LfO"
      }
    },
    {
      "cell_type": "markdown",
      "source": [
        "If the model performs poorly to new instances, then it has overfit on the training data. To solve this, we can do any of the following three: get more data, implement a simpler/different model, or eliminate outliers or noise from the existing data set."
      ],
      "metadata": {
        "id": "7Nq_gT4pe2Nb"
      }
    },
    {
      "cell_type": "markdown",
      "source": [
        "16.What exactly is a test set, and why would you need one?"
      ],
      "metadata": {
        "id": "xolq0R_T6O5C"
      }
    },
    {
      "cell_type": "markdown",
      "source": [
        "Test set is a set that you test your model (fit using training data) to see how it performs. Test set is necessary so that you can determine how good (or bad) your model performs.\n",
        "\n"
      ],
      "metadata": {
        "id": "dSAfABKWfXbG"
      }
    },
    {
      "cell_type": "markdown",
      "source": [
        "17.What is a validation set&#39;s purpose?"
      ],
      "metadata": {
        "id": "hIJO0e1c6SUh"
      }
    },
    {
      "cell_type": "markdown",
      "source": [
        "Validation set is a set used to compare between different training models."
      ],
      "metadata": {
        "id": "5rlKfwDZfihj"
      }
    },
    {
      "cell_type": "markdown",
      "source": [
        "18.What precisely is the train-dev kit, when will you need it, how do you put it to use?"
      ],
      "metadata": {
        "id": "8g_9fU4a6V6K"
      }
    },
    {
      "cell_type": "markdown",
      "source": [
        "If you tune hyperparameters using the test sets, then it may not perform well on the out-of-sample data because the model is tuned just for that specific set."
      ],
      "metadata": {
        "id": "VjYxrtHDfnAe"
      }
    },
    {
      "cell_type": "markdown",
      "source": [
        "19.What could go wrong if you use the test set to tune hyperparameters?"
      ],
      "metadata": {
        "id": "N0lEELIX6ZzT"
      }
    },
    {
      "cell_type": "markdown",
      "source": [
        "Cross-validation is a tool to compare models without needing a separate validation set. It is preferred over validation set because we can save from breaking of part of the training set to create a validation set, as having more data is valuable regardless."
      ],
      "metadata": {
        "id": "H8G7S0UIfvWD"
      }
    },
    {
      "cell_type": "code",
      "source": [],
      "metadata": {
        "id": "r5osSKmRgAnE"
      },
      "execution_count": null,
      "outputs": []
    }
  ]
}